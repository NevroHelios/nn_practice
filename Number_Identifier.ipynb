{
  "nbformat": 4,
  "nbformat_minor": 0,
  "metadata": {
    "colab": {
      "provenance": [],
      "gpuType": "T4",
      "authorship_tag": "ABX9TyMwz90qkED5Fu1EX+Vu7MW7",
      "include_colab_link": true
    },
    "kernelspec": {
      "name": "python3",
      "display_name": "Python 3"
    },
    "language_info": {
      "name": "python"
    },
    "accelerator": "GPU"
  },
  "cells": [
    {
      "cell_type": "markdown",
      "metadata": {
        "id": "view-in-github",
        "colab_type": "text"
      },
      "source": [
        "<a href=\"https://colab.research.google.com/github/NevroHelios/nn_practice/blob/main/Number_Identifier.ipynb\" target=\"_parent\"><img src=\"https://colab.research.google.com/assets/colab-badge.svg\" alt=\"Open In Colab\"/></a>"
      ]
    },
    {
      "cell_type": "markdown",
      "source": [
        "Import Dependency"
      ],
      "metadata": {
        "id": "e4Nvgr7EYmL9"
      }
    },
    {
      "cell_type": "code",
      "execution_count": null,
      "metadata": {
        "id": "Nw_lH5t6WfF0"
      },
      "outputs": [],
      "source": [
        "import torch\n",
        "from PIL import Image\n",
        "from torch import nn, save, load\n",
        "from torch.optim import Adam\n",
        "from torch.utils.data import DataLoader\n",
        "from torchvision import datasets\n",
        "from torchvision.transforms import ToTensor"
      ]
    },
    {
      "cell_type": "code",
      "source": [
        "# Get data\n",
        "train = datasets.MNIST(root=\"data\", download=True, train=True, transform=ToTensor())\n",
        "dataset = DataLoader(train, 32)\n",
        "#1,28,28 - classes 0-9"
      ],
      "metadata": {
        "id": "J8uP-KNsXgOq"
      },
      "execution_count": null,
      "outputs": []
    },
    {
      "cell_type": "code",
      "source": [
        "# Image Classifier Neural Network\n",
        "class ImageClassifier(nn.Module):\n",
        "    def __init__(self):\n",
        "        super().__init__()\n",
        "        self.model = nn.Sequential(\n",
        "            nn.Conv2d(1, 32, (3,3)),\n",
        "            nn.ReLU(),\n",
        "            nn.Conv2d(32, 64, (3,3)),\n",
        "            nn.ReLU(),\n",
        "            nn.Conv2d(64, 64, (3,3)),\n",
        "            nn.ReLU(),\n",
        "            nn.Flatten(),\n",
        "            nn.Linear(64*(28-6)*(28-6), 10)\n",
        "        )\n",
        "\n",
        "    def forward(self, x):\n",
        "        return self.model(x)"
      ],
      "metadata": {
        "id": "GBBMLIwbYg9A"
      },
      "execution_count": null,
      "outputs": []
    },
    {
      "cell_type": "code",
      "source": [
        "# Instance of the neural network, loss, optimizer\n",
        "clf = ImageClassifier().to('cuda')\n",
        "opt = Adam(clf.parameters(), lr=1e-3)\n",
        "loss_fn = nn.CrossEntropyLoss()"
      ],
      "metadata": {
        "id": "pjE3bWU1aa9_"
      },
      "execution_count": null,
      "outputs": []
    },
    {
      "cell_type": "code",
      "source": [
        "# Training flow\n",
        "if __name__ == \"__main__\":\n",
        "    for epoch in range(10): # train for 10 epochs\n",
        "        for batch in dataset:\n",
        "            X,y = batch\n",
        "            X, y = X.to('cuda'), y.to('cuda')\n",
        "            yhat = clf(X)\n",
        "            loss = loss_fn(yhat, y)\n",
        "\n",
        "            # Apply backprop\n",
        "            opt.zero_grad()\n",
        "            loss.backward()\n",
        "            opt.step()\n",
        "\n",
        "        print(f\"Epoch:{epoch} loss is {loss.item()}\")"
      ],
      "metadata": {
        "colab": {
          "base_uri": "https://localhost:8080/"
        },
        "id": "XIQLpXAWaw_X",
        "outputId": "423c125d-ca59-4a12-aeb5-2e20fe05aa11"
      },
      "execution_count": null,
      "outputs": [
        {
          "output_type": "stream",
          "name": "stdout",
          "text": [
            "Epoch:0 loss is 0.028422188013792038\n",
            "Epoch:1 loss is 0.004187010694295168\n",
            "Epoch:2 loss is 0.0008276794687844813\n",
            "Epoch:3 loss is 0.0008882067631930113\n",
            "Epoch:4 loss is 6.617339386139065e-05\n",
            "Epoch:5 loss is 1.686500218056608e-05\n",
            "Epoch:6 loss is 0.00027072662487626076\n",
            "Epoch:7 loss is 0.00012716386117972434\n",
            "Epoch:8 loss is 1.254431754205143e-05\n",
            "Epoch:9 loss is 1.8626434439283912e-07\n"
          ]
        }
      ]
    },
    {
      "cell_type": "markdown",
      "source": [],
      "metadata": {
        "id": "SmaaCKWPdm0h"
      }
    },
    {
      "cell_type": "code",
      "source": [
        "from torchvision.transforms import Grayscale\n",
        "import os\n",
        "with open('model_state.pt', 'rb') as f:\n",
        "    clf.load_state_dict(load(f))\n",
        "\n",
        "img = 'img_1,7,3,8.png'\n",
        "dir = '/resized_images/'\n",
        "os.makedirs(dir, exist_ok= True)\n",
        "path = os.path.join(dir, f'resized_{img}')\n",
        "\n",
        "img_colored = Image.open(img)\n",
        "img_gray = Grayscale()(img_colored)\n",
        "\n",
        "resized_image = img_gray.resize((28, 28), Image.ANTIALIAS)\n",
        "resized_image.save(path)\n",
        "\n",
        "img_tensor = ToTensor()(resized_image).unsqueeze(0).to('cuda')\n",
        "\n",
        "print(torch.argmax(clf(img_tensor)))\n"
      ],
      "metadata": {
        "colab": {
          "base_uri": "https://localhost:8080/"
        },
        "id": "SkTWuxxsh-Ye",
        "outputId": "6a202173-fb78-4b36-e9a4-df9af58ecd52"
      },
      "execution_count": null,
      "outputs": [
        {
          "output_type": "stream",
          "name": "stdout",
          "text": [
            "tensor(8, device='cuda:0')\n"
          ]
        },
        {
          "output_type": "stream",
          "name": "stderr",
          "text": [
            "<ipython-input-27-95fe47ff3db6>:14: DeprecationWarning: ANTIALIAS is deprecated and will be removed in Pillow 10 (2023-07-01). Use LANCZOS or Resampling.LANCZOS instead.\n",
            "  resized_image = img_gray.resize((28, 28), Image.ANTIALIAS)\n"
          ]
        }
      ]
    },
    {
      "cell_type": "code",
      "source": [],
      "metadata": {
        "id": "HvRQZgoamD6y"
      },
      "execution_count": null,
      "outputs": []
    },
    {
      "cell_type": "code",
      "source": [],
      "metadata": {
        "id": "otBdkrkRmD3a"
      },
      "execution_count": null,
      "outputs": []
    }
  ]
}